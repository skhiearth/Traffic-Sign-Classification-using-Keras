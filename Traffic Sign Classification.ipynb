{
 "cells": [
  {
   "cell_type": "markdown",
   "metadata": {},
   "source": [
    "# Traffic Sign Classication using Keras"
   ]
  },
  {
   "cell_type": "markdown",
   "metadata": {},
   "source": [
    "### Implementation of CNNs in Keras to solve to recognize traffic signs from the German Traffic Sign Dataset.\n",
    "\n",
    "GitHub: https://github.com/skhiearth/Traffic-Sign-Classification-using-Keras"
   ]
  },
  {
   "cell_type": "markdown",
   "metadata": {},
   "source": [
    "### Importing the dataset"
   ]
  },
  {
   "cell_type": "code",
   "execution_count": 1,
   "metadata": {},
   "outputs": [
    {
     "name": "stdout",
     "output_type": "stream",
     "text": [
      "Training and Test data downloaded.\n"
     ]
    }
   ],
   "source": [
    "from urllib.request import urlretrieve\n",
    "from os.path import isfile\n",
    "from tqdm import tqdm\n",
    "\n",
    "class DLProgress(tqdm):\n",
    "    last_block = 0\n",
    "\n",
    "    def hook(self, block_num=1, block_size=1, total_size=None):\n",
    "        self.total = total_size\n",
    "        self.update((block_num - self.last_block) * block_size)\n",
    "        self.last_block = block_num\n",
    "\n",
    "if not isfile('train.p'):\n",
    "    with DLProgress(unit='B', unit_scale=True, miniters=1, desc='Train Dataset') as pbar:\n",
    "        urlretrieve(\n",
    "            'https://s3.amazonaws.com/udacity-sdc/datasets/german_traffic_sign_benchmark/train.p',\n",
    "            'train.p',\n",
    "            pbar.hook)\n",
    "\n",
    "if not isfile('test.p'):\n",
    "    with DLProgress(unit='B', unit_scale=True, miniters=1, desc='Test Dataset') as pbar:\n",
    "        urlretrieve(\n",
    "            'https://s3.amazonaws.com/udacity-sdc/datasets/german_traffic_sign_benchmark/test.p',\n",
    "            'test.p',\n",
    "            pbar.hook)\n",
    "\n",
    "print('Training and Test data downloaded.')"
   ]
  },
  {
   "cell_type": "code",
   "execution_count": 2,
   "metadata": {},
   "outputs": [
    {
     "name": "stdout",
     "output_type": "stream",
     "text": [
      "Loaded training samples.\n"
     ]
    }
   ],
   "source": [
    "import pickle\n",
    "import numpy as np\n",
    "import math\n",
    "import tensorflow as tf\n",
    "from sklearn.utils import shuffle\n",
    "\n",
    "with open('train.p', 'rb') as f:\n",
    "    data = pickle.load(f)\n",
    "\n",
    "X_train = data['features']\n",
    "y_train = data['labels']\n",
    "\n",
    "assert (len(X_train)==len(y_train))\n",
    "print(\"Loaded training samples.\")\n",
    "\n",
    "X_train, y_train = shuffle(X_train, y_train)"
   ]
  },
  {
   "cell_type": "markdown",
   "metadata": {},
   "source": [
    "### Preprocessing images"
   ]
  },
  {
   "cell_type": "code",
   "execution_count": 3,
   "metadata": {
    "collapsed": true
   },
   "outputs": [],
   "source": [
    "def normalize_grayscale(image_data):\n",
    "    a = -0.5    \n",
    "    b = 0.5     \n",
    "    x_min = 0   \n",
    "    x_max = 255 \n",
    "    return (a + ((image_data - x_min) * (b - a) / (x_max - x_min)))\n",
    "\n",
    "X_normalized = normalize_grayscale(X_train)\n",
    "\n",
    "# One Hot encode the labels to the variable y_one_hot\n",
    "from sklearn.preprocessing import LabelBinarizer\n",
    "y_one_hot = LabelBinarizer().fit_transform(y_train)"
   ]
  },
  {
   "cell_type": "markdown",
   "metadata": {},
   "source": [
    "### Model definition and training"
   ]
  },
  {
   "cell_type": "code",
   "execution_count": 4,
   "metadata": {},
   "outputs": [
    {
     "name": "stderr",
     "output_type": "stream",
     "text": [
      "Using TensorFlow backend.\n",
      "/Users/skhiearth/anaconda3/envs/virtual_platform/lib/python3.5/site-packages/ipykernel_launcher.py:12: UserWarning: Update your `Conv2D` call to the Keras 2 API: `Conv2D(32, (5, 5), input_shape=(32, 32, 3..., padding=\"valid\")`\n",
      "  if sys.path[0] == '':\n",
      "/Users/skhiearth/anaconda3/envs/virtual_platform/lib/python3.5/site-packages/ipykernel_launcher.py:17: UserWarning: Update your `Conv2D` call to the Keras 2 API: `Conv2D(32, (5, 5), padding=\"valid\")`\n",
      "/Users/skhiearth/anaconda3/envs/virtual_platform/lib/python3.5/site-packages/ipykernel_launcher.py:43: UserWarning: The `nb_epoch` argument in `fit` has been renamed `epochs`.\n"
     ]
    },
    {
     "name": "stdout",
     "output_type": "stream",
     "text": [
      "Train on 31367 samples, validate on 7842 samples\n",
      "Epoch 1/25\n",
      "31367/31367 [==============================] - 28s 881us/step - loss: 2.2453 - accuracy: 0.3748 - val_loss: 0.8310 - val_accuracy: 0.7605\n",
      "Epoch 2/25\n",
      "31367/31367 [==============================] - 30s 971us/step - loss: 0.7523 - accuracy: 0.7627 - val_loss: 0.3400 - val_accuracy: 0.9202\n",
      "Epoch 3/25\n",
      "31367/31367 [==============================] - 29s 911us/step - loss: 0.4751 - accuracy: 0.8529 - val_loss: 0.2819 - val_accuracy: 0.9444\n",
      "Epoch 4/25\n",
      "31367/31367 [==============================] - 28s 901us/step - loss: 0.3673 - accuracy: 0.8869 - val_loss: 0.1485 - val_accuracy: 0.9602\n",
      "Epoch 5/25\n",
      "31367/31367 [==============================] - 34s 1ms/step - loss: 0.2871 - accuracy: 0.9110 - val_loss: 0.1143 - val_accuracy: 0.9719\n",
      "Epoch 6/25\n",
      "31367/31367 [==============================] - 32s 1ms/step - loss: 0.2554 - accuracy: 0.9201 - val_loss: 0.0975 - val_accuracy: 0.9777\n",
      "Epoch 7/25\n",
      "31367/31367 [==============================] - 25s 811us/step - loss: 0.2148 - accuracy: 0.9337 - val_loss: 0.0880 - val_accuracy: 0.9809\n",
      "Epoch 8/25\n",
      "31367/31367 [==============================] - 25s 812us/step - loss: 0.2017 - accuracy: 0.9386 - val_loss: 0.0734 - val_accuracy: 0.9804\n",
      "Epoch 9/25\n",
      "31367/31367 [==============================] - 30s 971us/step - loss: 0.1780 - accuracy: 0.9445 - val_loss: 0.0684 - val_accuracy: 0.9825\n",
      "Epoch 10/25\n",
      "31367/31367 [==============================] - 34s 1ms/step - loss: 0.1740 - accuracy: 0.9464 - val_loss: 0.0561 - val_accuracy: 0.9880\n",
      "Epoch 11/25\n",
      "31367/31367 [==============================] - 38s 1ms/step - loss: 0.1573 - accuracy: 0.9502 - val_loss: 0.0545 - val_accuracy: 0.9880\n",
      "Epoch 12/25\n",
      "31367/31367 [==============================] - 36s 1ms/step - loss: 0.1500 - accuracy: 0.9536 - val_loss: 0.0584 - val_accuracy: 0.9898\n",
      "Epoch 13/25\n",
      "31367/31367 [==============================] - 35s 1ms/step - loss: 0.1385 - accuracy: 0.9556 - val_loss: 0.0659 - val_accuracy: 0.9878\n",
      "Epoch 14/25\n",
      "31367/31367 [==============================] - 35s 1ms/step - loss: 0.1453 - accuracy: 0.9549 - val_loss: 0.0495 - val_accuracy: 0.9870\n",
      "Epoch 15/25\n",
      "31367/31367 [==============================] - 36s 1ms/step - loss: 0.1415 - accuracy: 0.9568 - val_loss: 0.0438 - val_accuracy: 0.9899\n",
      "Epoch 16/25\n",
      "31367/31367 [==============================] - 34s 1ms/step - loss: 0.1205 - accuracy: 0.9617 - val_loss: 0.0413 - val_accuracy: 0.9922\n",
      "Epoch 17/25\n",
      "31367/31367 [==============================] - 30s 958us/step - loss: 0.1229 - accuracy: 0.9620 - val_loss: 0.0402 - val_accuracy: 0.9904\n",
      "Epoch 18/25\n",
      "31367/31367 [==============================] - 29s 923us/step - loss: 0.1259 - accuracy: 0.9614 - val_loss: 0.0365 - val_accuracy: 0.9927\n",
      "Epoch 19/25\n",
      "31367/31367 [==============================] - 30s 962us/step - loss: 0.1103 - accuracy: 0.9649 - val_loss: 0.0465 - val_accuracy: 0.9879\n",
      "Epoch 20/25\n",
      "31367/31367 [==============================] - 29s 927us/step - loss: 0.1175 - accuracy: 0.9616 - val_loss: 0.0490 - val_accuracy: 0.9874\n",
      "Epoch 21/25\n",
      "31367/31367 [==============================] - 26s 845us/step - loss: 0.1117 - accuracy: 0.9645 - val_loss: 0.0343 - val_accuracy: 0.9916\n",
      "Epoch 22/25\n",
      "31367/31367 [==============================] - 26s 817us/step - loss: 0.1075 - accuracy: 0.9662 - val_loss: 0.0473 - val_accuracy: 0.9879\n",
      "Epoch 23/25\n",
      "31367/31367 [==============================] - 26s 827us/step - loss: 0.1027 - accuracy: 0.9679 - val_loss: 0.0378 - val_accuracy: 0.9926\n",
      "Epoch 24/25\n",
      "31367/31367 [==============================] - 26s 828us/step - loss: 0.1069 - accuracy: 0.9664 - val_loss: 0.0349 - val_accuracy: 0.9931\n",
      "Epoch 25/25\n",
      "31367/31367 [==============================] - 28s 888us/step - loss: 0.0954 - accuracy: 0.9690 - val_loss: 0.0288 - val_accuracy: 0.9941\n"
     ]
    }
   ],
   "source": [
    "from keras.models import Sequential\n",
    "from keras.layers.core import Dense\n",
    "from keras.layers.core import Activation\n",
    "from keras.layers.core import Flatten\n",
    "from keras.layers.core import Dropout\n",
    "from keras.layers.convolutional import Convolution2D\n",
    "from keras.layers.pooling import MaxPooling2D\n",
    "\n",
    "model = Sequential()\n",
    "\n",
    "# Convolution / Max / Pooling / Dropout\n",
    "model.add(Convolution2D(32, 5, 5, border_mode='valid', input_shape=(32, 32, 3)))\n",
    "model.add(MaxPooling2D(pool_size=(2, 2)))\n",
    "model.add(Dropout(0.5))\n",
    "model.add(Activation('relu'))\n",
    "\n",
    "model.add(Convolution2D(32, 5, 5, border_mode='valid'))\n",
    "model.add(MaxPooling2D(pool_size=(2, 2)))\n",
    "model.add(Dropout(0.5))\n",
    "model.add(Activation('relu'))\n",
    "\n",
    "# Flatten for a Fully connected layer\n",
    "model.add(Flatten())\n",
    "\n",
    "# Fully connected layer 1\n",
    "model.add(Dense(120))\n",
    "model.add(Activation('relu'))\n",
    "\n",
    "# Fully connected layer 2\n",
    "model.add(Dense(84))\n",
    "model.add(Activation('relu'))\n",
    "\n",
    "# Fully connected layer 3\n",
    "model.add(Dense(43))\n",
    "model.add(Activation('softmax'))\n",
    "\n",
    "model.compile('adam', 'categorical_crossentropy', ['accuracy'])\n",
    "\n",
    "history = model.fit(X_normalized, \n",
    "                    y_one_hot, \n",
    "                    batch_size=128, \n",
    "                    nb_epoch=25, \n",
    "                    validation_split=0.2)"
   ]
  },
  {
   "cell_type": "markdown",
   "metadata": {},
   "source": [
    "### Saving the model"
   ]
  },
  {
   "cell_type": "code",
   "execution_count": 5,
   "metadata": {
    "collapsed": true
   },
   "outputs": [],
   "source": [
    "from keras.models import load_model\n",
    "\n",
    "model.save('classification_model.h5')\n",
    "del model"
   ]
  },
  {
   "cell_type": "markdown",
   "metadata": {},
   "source": [
    "### Testing the model"
   ]
  },
  {
   "cell_type": "code",
   "execution_count": 7,
   "metadata": {},
   "outputs": [
    {
     "name": "stdout",
     "output_type": "stream",
     "text": [
      "12630/12630 [==============================] - 3s 225us/step\n",
      "loss: 0.17921974206887487\n",
      "accuracy: 0.9553444385528564\n"
     ]
    }
   ],
   "source": [
    "with open('test.p', 'rb') as f:\n",
    "    data_test = pickle.load(f)\n",
    "    \n",
    "X_test = data_test['features']\n",
    "y_test = data_test['labels']\n",
    "\n",
    "# Preprocess data & one-hot encode the labels\n",
    "X_normalized_test = normalize_grayscale(X_test)\n",
    "y_one_hot_test = LabelBinarizer().fit_transform(y_test)\n",
    "\n",
    "# Evaluate model on test data\n",
    "model = load_model('classification_model.h5')\n",
    "metrics = model.evaluate(X_normalized_test, y_one_hot_test)\n",
    "\n",
    "for metric_i in range(len(model.metrics_names)):\n",
    "    metric_name = model.metrics_names[metric_i]\n",
    "    metric_value = metrics[metric_i]\n",
    "    print('{}: {}'.format(metric_name, metric_value))"
   ]
  }
 ],
 "metadata": {
  "kernelspec": {
   "display_name": "Python 3",
   "language": "python",
   "name": "python3"
  },
  "language_info": {
   "codemirror_mode": {
    "name": "ipython",
    "version": 3
   },
   "file_extension": ".py",
   "mimetype": "text/x-python",
   "name": "python",
   "nbconvert_exporter": "python",
   "pygments_lexer": "ipython3",
   "version": "3.5.4"
  }
 },
 "nbformat": 4,
 "nbformat_minor": 1
}
